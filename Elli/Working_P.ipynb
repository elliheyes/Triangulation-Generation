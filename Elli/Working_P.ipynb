{
 "cells": [
  {
   "cell_type": "code",
   "execution_count": 1,
   "id": "c1bedd1b-1097-4a96-9088-cc29ab5b13b9",
   "metadata": {
    "tags": []
   },
   "outputs": [],
   "source": [
    "from cytools import Polytope\n",
    "from GA_poly import state, random_pop, evol_pop"
   ]
  },
  {
   "cell_type": "code",
   "execution_count": 2,
   "id": "2a088d9e-50db-4819-aaf2-a1b2a3ce6b78",
   "metadata": {
    "tags": []
   },
   "outputs": [],
   "source": [
    "DIM = 4 # polytope dimension \n",
    "MAXCOEFF = 3 # absolute maximum coefficient value\n",
    "MAXVERTS = 8 # maximum number of vertices\n",
    "POPSIZE = 100 # population size\n",
    "NUMGEN = 50 # number of generations\n",
    "MUTRATE = 0.01 # mutation rate"
   ]
  },
  {
   "cell_type": "code",
   "execution_count": 3,
   "id": "523f1dad-d5ab-4bd8-b498-421862264a76",
   "metadata": {
    "tags": []
   },
   "outputs": [],
   "source": [
    "initial_pop = random_pop(POPSIZE, DIM, MAXVERTS, MAXCOEFF, fav=True)"
   ]
  },
  {
   "cell_type": "code",
   "execution_count": 4,
   "id": "aff9f647-4744-43c8-984f-2d7c2ff543a4",
   "metadata": {
    "tags": []
   },
   "outputs": [
    {
     "name": "stdout",
     "output_type": "stream",
     "text": [
      "Total # Terminal States    Average Fitness    Maximum Fitness\n",
      "    0                        -18.9                  -6.15\n",
      "    0                        -17.32                  -4.85\n",
      "    0                        -15.77                  -4.75\n",
      "    0                        -13.83                  -3.64\n",
      "    0                        -11.75                  -3.64\n",
      "    0                        -10.12                  -2.75\n",
      "    0                        -8.41                  -1.55\n",
      "    0                        -6.69                  -2.56\n",
      "    0                        -6.2                  -1.93\n",
      "    0                        -5.04                  -1.38\n",
      "    0                        -4.33                  -1.31\n",
      "    0                        -4.29                  -0.5\n",
      "    0                        -3.58                  -0.5\n",
      "    0                        -3.27                  -0.7\n",
      "    0                        -3.03                  -0.45\n",
      "    0                        -2.61                  -0.38\n",
      "    0                        -2.02                  -0.36\n",
      "    0                        -1.91                  -0.21\n",
      "    0                        -1.58                  -0.29\n",
      "    0                        -1.29                  -0.29\n",
      "    0                        -1.2                  -0.33\n",
      "    0                        -0.92                  -0.2\n",
      "    0                        -0.74                  -0.15\n",
      "    0                        -0.68                  -0.14\n",
      "    0                        -0.67                  -0.14\n",
      "    1                        -0.72                  0.0\n",
      "    3                        -0.64                  0.0\n",
      "    8                        -0.62                  0.0\n",
      "    15                        -0.55                  0.0\n",
      "    27                        -0.55                  0.0\n",
      "    37                        -0.47                  0.0\n",
      "    46                        -0.63                  0.0\n",
      "    58                        -0.49                  0.0\n",
      "    76                        -0.34                  0.0\n",
      "    104                        -0.32                  0.0\n",
      "    151                        -0.3                  0.0\n",
      "    201                        -0.26                  0.0\n",
      "    256                        -0.36                  0.0\n",
      "    310                        -0.34                  0.0\n",
      "    360                        -0.35                  0.0\n",
      "    408                        -0.42                  0.0\n",
      "    461                        -0.3                  0.0\n",
      "    524                        -0.37                  0.0\n",
      "    588                        -0.27                  0.0\n",
      "    655                        -0.32                  0.0\n",
      "    726                        -0.27                  0.0\n",
      "    786                        -0.38                  0.0\n",
      "    860                        -0.22                  0.0\n",
      "    933                        -0.26                  0.0\n",
      "    1003                        -0.28                  0.0\n",
      "Total # of reduced terminal states: 56\n"
     ]
    }
   ],
   "source": [
    "terminal_states = evol_pop(initial_pop, NUMGEN, MUTRATE, monitor=True, fav=True)"
   ]
  },
  {
   "cell_type": "code",
   "execution_count": 5,
   "id": "ad828a8c-9c30-41a3-acb4-62575c814ea7",
   "metadata": {
    "tags": []
   },
   "outputs": [
    {
     "data": {
      "text/plain": [
       "array([[ 0,  0,  0,  0],\n",
       "       [-1,  1,  1, -1],\n",
       "       [ 1, -2, -1,  1],\n",
       "       [ 1,  0,  1, -1],\n",
       "       [-1,  1,  1,  0],\n",
       "       [-1,  2,  1,  1],\n",
       "       [ 0, -1, -1,  2],\n",
       "       [ 0,  0, -1,  0],\n",
       "       [ 0,  1,  1,  0],\n",
       "       [ 1, -1,  0,  0],\n",
       "       [ 0,  0,  0,  1]])"
      ]
     },
     "execution_count": 5,
     "metadata": {},
     "output_type": "execute_result"
    }
   ],
   "source": [
    "terminal_states[0].points()"
   ]
  },
  {
   "cell_type": "code",
   "execution_count": null,
   "id": "04fb7f9d-e531-42f0-9932-98e605dc6518",
   "metadata": {},
   "outputs": [],
   "source": []
  }
 ],
 "metadata": {
  "kernelspec": {
   "display_name": "Python 3 (ipykernel)",
   "language": "python",
   "name": "python3"
  },
  "language_info": {
   "codemirror_mode": {
    "name": "ipython",
    "version": 3
   },
   "file_extension": ".py",
   "mimetype": "text/x-python",
   "name": "python",
   "nbconvert_exporter": "python",
   "pygments_lexer": "ipython3",
   "version": "3.9.2"
  }
 },
 "nbformat": 4,
 "nbformat_minor": 5
}
