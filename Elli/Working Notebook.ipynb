{
 "cells": [
  {
   "cell_type": "code",
   "execution_count": 1,
   "id": "2d3952dd",
   "metadata": {},
   "outputs": [],
   "source": [
    "from setup import sim_faces, non_sim_faces, adj_faces, non_sim_sub_sim, gale_trans, sim_gale_cones, non_sim_sub_sim_gale_cones\n",
    "from GA import triang, random_pop, evol_pop\n",
    "from sage.geometry.lattice_polytope import LatticePolytope"
   ]
  },
  {
   "cell_type": "code",
   "execution_count": 2,
   "id": "08905d24",
   "metadata": {},
   "outputs": [],
   "source": [
    "# define the polytope\n",
    "POLYDIM = 4\n",
    "# 491 poly [[1,0,0,0],[0,1,0,0],[0,0,1,0],[0,0,0,1],[-42,-28,-12,-1]]\n",
    "vertices = [[-1,0,0,0],[-1,1,0,0],[-1,0,1,0],[2,-1,0,-1],[2,0,-1,-1],[2,-1,-1,-1],[-1,0,0,1],[-1,1,0,1],[-1,0,1,1]]\n",
    "poly = LatticePolytope(vertices)"
   ]
  },
  {
   "cell_type": "code",
   "execution_count": 3,
   "id": "c9f6bb6d",
   "metadata": {},
   "outputs": [],
   "source": [
    "# find the simplicial faces\n",
    "sim_faces_points = sim_faces(vertices)\n",
    "\n",
    "# find the non-simplicial faces\n",
    "non_sim_faces_inds, non_sim_faces_points, non_sim_faces_Hrep = non_sim_faces(vertices)\n",
    "                                                               \n",
    "# find all of the adjacent non_simplicial faces\n",
    "adj_faces_inds, adj_faces_points = adj_faces(non_sim_faces_inds, non_sim_faces_points, non_sim_faces_Hrep, POLYDIM)\n",
    "            \n",
    "# find all the allowed codim=1 sub simplices of the non-simplicial faces\n",
    "non_sim_faces_sub_sim_points, non_sim_faces_sub_sim_Hrep, num_non_sim_faces_sub_sim = non_sim_sub_sim(non_sim_faces_points, POLYDIM)\n",
    "\n",
    "# compute the Gale transform of the point configuration\n",
    "points, gale = gale_trans(poly, POLYDIM)\n",
    "\n",
    "# compute the gale transform cones of the simplicial faces \n",
    "sim_faces_gale_cones = sim_gale_cones(poly, non_sim_faces_inds, points, gale, POLYDIM)\n",
    "\n",
    "# compute the gale transform cones of the non-simplicial faces sub simplices\n",
    "non_sim_faces_sub_sim_gale_cones = non_sim_sub_sim_gale_cones(non_sim_faces_sub_sim_points, points, gale, POLYDIM)"
   ]
  },
  {
   "cell_type": "code",
   "execution_count": 4,
   "id": "42ee2dd6",
   "metadata": {},
   "outputs": [],
   "source": [
    "# define parameters\n",
    "pop_size = 200\n",
    "num_gen = 100\n",
    "mut_rate = 0.01"
   ]
  },
  {
   "cell_type": "code",
   "execution_count": 5,
   "id": "506599ff",
   "metadata": {},
   "outputs": [],
   "source": [
    "# generate random initial population  \n",
    "initial_pop = random_pop(non_sim_faces_points, non_sim_faces_sub_sim_points, \n",
    "               non_sim_faces_sub_sim_Hrep, adj_faces_inds, adj_faces_points, \n",
    "               sim_faces_gale_cones, non_sim_faces_sub_sim_gale_cones, num_non_sim_faces_sub_sim, \n",
    "               POLYDIM, pop_size)"
   ]
  },
  {
   "cell_type": "code",
   "execution_count": null,
   "id": "9f2b0520",
   "metadata": {},
   "outputs": [
    {
     "name": "stdout",
     "output_type": "stream",
     "text": [
      "Total # Terminal States    Average Fitness    Maximum Fitness\n",
      "    0                        -23.75                        -16\n",
      "    0                        -21.435                        -12\n",
      "    0                        -20.335                        -11\n",
      "    0                        -19.185                        -12\n",
      "    0                        -18.475                        -13\n",
      "    0                        -18.06                        -10\n",
      "    0                        -17.47                        -12\n",
      "    0                        -16.915                        -12\n",
      "    0                        -16.34                        -11\n",
      "    0                        -16.235                        -10\n",
      "    0                        -15.73                        -9\n",
      "    0                        -15.73                        -8\n",
      "    0                        -15.71                        -10\n",
      "    0                        -15.265                        -9\n",
      "    0                        -14.635                        -8\n",
      "    0                        -14.91                        -9\n",
      "    0                        -14.655                        -9\n",
      "    0                        -14.46                        -8\n",
      "    0                        -14.02                        -8\n",
      "    0                        -13.71                        -9\n",
      "    0                        -13.41                        -8\n",
      "    0                        -13.325                        -8\n",
      "    0                        -12.865                        -8\n",
      "    0                        -12.655                        -7\n",
      "    0                        -12.12                        -7\n",
      "    0                        -11.95                        -7\n",
      "    0                        -11.855                        -7\n",
      "    0                        -11.805                        -7\n",
      "    0                        -11.65                        -7\n",
      "    0                        -10.99                        -5\n",
      "    0                        -11.03                        -7\n",
      "    0                        -10.655                        -7\n",
      "    0                        -10.3                        -6\n",
      "    0                        -10.445                        -6\n",
      "    0                        -10.04                        -6\n",
      "    0                        -9.99                        -5\n",
      "    0                        -10.01                        -6\n",
      "    0                        -9.715                        -6\n",
      "    0                        -9.485                        -5\n",
      "    0                        -9.4                        -6\n",
      "    0                        -9.29                        -6\n",
      "    0                        -8.925                        -6\n",
      "    0                        -8.555                        -6\n",
      "    0                        -8.42                        -6\n",
      "    0                        -8.45                        -6\n",
      "    0                        -8.145                        -6\n",
      "    0                        -8.225                        -6\n",
      "    0                        -8.17                        -5\n",
      "    0                        -8.005                        -5\n",
      "    0                        -7.915                        -5\n",
      "    0                        -7.61                        -5\n",
      "    0                        -7.63                        -6\n",
      "    0                        -7.59                        -4\n",
      "    0                        -7.7                        -4\n",
      "    0                        -7.765                        -4\n",
      "    0                        -7.615                        -4\n",
      "    0                        -7.965                        -4\n",
      "    0                        -7.77                        -4\n",
      "    0                        -7.64                        -4\n",
      "    0                        -7.635                        -4\n",
      "    0                        -7.745                        -4\n",
      "    0                        -7.94                        -4\n",
      "    0                        -7.995                        -4\n",
      "    0                        -7.74                        -4\n",
      "    0                        -7.865                        -4\n"
     ]
    }
   ],
   "source": [
    "# evolve random population over generations and extract terminal states\n",
    "terminal_states = evol_pop(initial_pop, num_gen, mut_rate)"
   ]
  },
  {
   "cell_type": "code",
   "execution_count": null,
   "id": "0b76bcf8",
   "metadata": {},
   "outputs": [],
   "source": []
  }
 ],
 "metadata": {
  "kernelspec": {
   "display_name": "SageMath 10.0",
   "language": "sage",
   "name": "sagemath"
  },
  "language_info": {
   "codemirror_mode": {
    "name": "ipython",
    "version": 3
   },
   "file_extension": ".py",
   "mimetype": "text/x-python",
   "name": "python",
   "nbconvert_exporter": "python",
   "pygments_lexer": "ipython3",
   "version": "3.9.18"
  }
 },
 "nbformat": 4,
 "nbformat_minor": 5
}
