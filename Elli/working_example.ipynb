{
 "cells": [
  {
   "cell_type": "markdown",
   "id": "8f23d4fc-19bf-4fc7-8efb-03f561610962",
   "metadata": {},
   "source": [
    "Author: Elli Heyes (elli.heyes@city.ac.uk)\n",
    "Last edited: 10/06/2024\n",
    "\n",
    "In this notebook we construct a reinforcement learning algorithm to generate FRST triangulations of reflexive polytopes.\n",
    "We use a deep Q-learning algorithm, where the triangulation states are encoded by 2-face triangulations. "
   ]
  },
  {
   "cell_type": "code",
   "execution_count": 2,
   "id": "ef9cc4ad-b220-445f-93a3-3621bc3ef52d",
   "metadata": {
    "tags": []
   },
   "outputs": [],
   "source": [
    "import sys\n",
    "import subprocess\n",
    "try:\n",
    "    import keras \n",
    "    import tensorflow as tf\n",
    "except:\n",
    "    subprocess.check_call([sys.executable, '-m', 'pip', 'install', 'tensorflow'])\n",
    "    subprocess.check_call([sys.executable, '-m', 'pip', 'install', 'keras'])\n",
    "    import keras\n",
    "    import tensorflow as tf\n",
    "import random\n",
    "import numpy as np\n",
    "import matplotlib.pyplot as plt\n",
    "from copy import deepcopy\n",
    "from collections import deque\n",
    "from cytools import Polytope\n",
    "from cytools import fetch_polytopes\n",
    "from utils import get_two_face_triangs, get_T_actions, random_T_state, T_fitness, T_act"
   ]
  },
  {
   "cell_type": "code",
   "execution_count": 3,
   "id": "f31506bb-f2a2-4e32-8d45-1467fe46638e",
   "metadata": {
    "tags": []
   },
   "outputs": [],
   "source": [
    "def agent(state_shape, action_shape):\n",
    "    \"\"\" The agent maps X-states to Y-actions.\"\"\"\n",
    "    learning_rate = 0.001\n",
    "    my_optimizer = tf.keras.optimizers.Adam(learning_rate=learning_rate)\n",
    "    my_loss = tf.keras.losses.MeanSquaredError()\n",
    "    my_metric = tf.keras.metrics.MeanAbsoluteError() \n",
    "    \n",
    "    model = keras.Sequential()\n",
    "    model.add(keras.layers.Dense(100, input_shape=state_shape, activation='relu'))\n",
    "    model.add(keras.layers.Dense(200, activation='relu'))\n",
    "    model.add(keras.layers.Dense(action_shape, activation='linear'))\n",
    "    model.compile(loss=my_loss, optimizer=my_optimizer, metrics=[my_metric])\n",
    "    return model"
   ]
  },
  {
   "cell_type": "code",
   "execution_count": 4,
   "id": "3635ca0b-a121-4917-be2c-562c9173038f",
   "metadata": {
    "tags": []
   },
   "outputs": [],
   "source": [
    "def train(replay_memory, model, target_model):\n",
    "    learning_rate = 0.7 \n",
    "    discount_factor = 0.618\n",
    "\n",
    "    min_replay_size = 1000\n",
    "    if len(replay_memory)<min_replay_size:\n",
    "        return\n",
    "    \n",
    "    batch_size = 256\n",
    "    mini_batch = random.sample(replay_memory, batch_size)\n",
    "    current_states = np.array([np.array(transition[0]).flatten() for transition in mini_batch])\n",
    "    current_qs_list = model.predict(current_states, verbose=0)\n",
    "    new_current_states = np.array([np.array(transition[3]).flatten() for transition in mini_batch])\n",
    "    future_qs_list = target_model.predict(new_current_states, verbose=0)\n",
    "\n",
    "    X, Y = [], []\n",
    "    for index, (state, action, reward, new_state, terminated) in enumerate(mini_batch):\n",
    "        if not terminated:\n",
    "            max_future_q = reward+discount_factor*np.max(future_qs_list[index])\n",
    "        else:\n",
    "            max_future_q = reward\n",
    "\n",
    "        current_qs = current_qs_list[index]\n",
    "        current_qs[action] = (1-learning_rate)*current_qs[action]+learning_rate*max_future_q\n",
    "\n",
    "        X.append(np.array(state).flatten())\n",
    "        Y.append(current_qs)\n",
    "\n",
    "    model.fit(np.array(X), np.array(Y), batch_size=batch_size, verbose=0, shuffle=True)"
   ]
  },
  {
   "cell_type": "code",
   "execution_count": 7,
   "id": "a26cc2aa-9536-4883-8e59-c5f7b5fa5b18",
   "metadata": {
    "tags": []
   },
   "outputs": [],
   "source": [
    "# set the netowrk hyperparameters\n",
    "max_epsilon = 1 # you can't explore more than 100% of the time\n",
    "min_epsilon = 0.01 # at a minimum, we'll always explore 1% of the time\n",
    "decay = 0.01"
   ]
  },
  {
   "cell_type": "code",
   "execution_count": 8,
   "id": "13bc0300-6415-4c94-8669-b9b8077402aa",
   "metadata": {
    "tags": []
   },
   "outputs": [
    {
     "name": "stdout",
     "output_type": "stream",
     "text": [
      "5\n",
      "20\n"
     ]
    }
   ],
   "source": [
    "# initialise the polytope\n",
    "all_polys = fetch_polytopes(h11=15, lattice=\"N\", as_list=True, limit=100)\n",
    "p = all_polys[0]\n",
    "\n",
    "# get the list of all 2-face triangulations \n",
    "two_face_triangs = get_two_face_triangs(p)\n",
    "\n",
    "# get the maximum number of triangulations for a 2-face\n",
    "max_num_triangs = max(len(x) for x in two_face_triangs)\n",
    "print(max_num_triangs)\n",
    "\n",
    "# get the action list \n",
    "action_list = get_T_actions(two_face_triangs)  \n",
    "print(len(action_list))"
   ]
  },
  {
   "cell_type": "code",
   "execution_count": 10,
   "id": "8ead8cb0-5eaa-4d0d-804e-43c9335b7628",
   "metadata": {
    "tags": []
   },
   "outputs": [
    {
     "name": "stdout",
     "output_type": "stream",
     "text": [
      "Pre-Training Average # Steps:  3.296947004608295\n"
     ]
    }
   ],
   "source": [
    "# pre-training test\n",
    "terminal_states, pre_train_count, pre_train_steps = [], [], []\n",
    "finished = False\n",
    "while not finished:\n",
    "    # initialise step count\n",
    "    step = 1\n",
    "    \n",
    "    # randomly set the initial state\n",
    "    state = random_T_state(two_face_triangs, max_num_triangs)\n",
    " \n",
    "    # compute the fitness of the initial state \n",
    "    fitness = T_fitness(p, two_face_triangs, state)\n",
    "    \n",
    "    # check if already terminal \n",
    "    if fitness == 1:\n",
    "        terminated = True\n",
    "        pre_train_steps.append(step)\n",
    "        \n",
    "        #  check if new state already exists in the list and if not add it\n",
    "        if not state in terminal_states:\n",
    "            terminal_states.append(state)\n",
    "        \n",
    "        # update count list\n",
    "        pre_train_count.append(len(terminal_states))\n",
    "    \n",
    "        # if no new FRSTs are found in the last 1000 runs then finish\n",
    "        if len(pre_train_count) > 1000:\n",
    "            if len(set(pre_train_count[-1000:])) == 1:\n",
    "                finished = True\n",
    "        \n",
    "    else:  \n",
    "        terminated = False\n",
    "    \n",
    "    # if not immediately terminal, continue until terminated\n",
    "    while not terminated:\n",
    "        # update step number\n",
    "        step += 1\n",
    "            \n",
    "        # randomly sample an action from the action space\n",
    "        action = random.choice(range(len(action_list)))\n",
    "        \n",
    "        # define the next state from the action\n",
    "        new_state = T_act(state, action_list[action])\n",
    "\n",
    "        # check if the next state is FRST \n",
    "        fitness = T_fitness(p, two_face_triangs, new_state)\n",
    "        if fitness == 1:\n",
    "            terminated = True\n",
    "            pre_train_steps.append(step)\n",
    "            \n",
    "            #  check if new state already exists in the list and if not add it\n",
    "            if not new_state in terminal_states:\n",
    "                terminal_states.append(new_state)\n",
    "\n",
    "            # update count list\n",
    "            pre_train_count.append(len(terminal_states))\n",
    "            \n",
    "            # if no new FRSTs are found in the last 1000 runs then finish\n",
    "            if len(pre_train_count) > 1000:\n",
    "                if len(set(pre_train_count[-1000:])) == 1:\n",
    "                    finished = True\n",
    "            \n",
    "        # update the state\n",
    "        state = deepcopy(new_state)\n",
    "\n",
    "print(\"Pre-Training Average # Steps: \",np.mean(pre_train_steps))"
   ]
  },
  {
   "cell_type": "code",
   "execution_count": 11,
   "id": "a8cb3182-af6e-4879-a112-66d8e90369cc",
   "metadata": {
    "tags": []
   },
   "outputs": [
    {
     "name": "stderr",
     "output_type": "stream",
     "text": [
      "/home/cytools/cytools-venv/lib/python3.11/site-packages/keras/src/layers/core/dense.py:87: UserWarning: Do not pass an `input_shape`/`input_dim` argument to a layer. When using Sequential models, prefer using an `Input(shape)` object as the first layer in the model instead.\n",
      "  super().__init__(activity_regularizer=activity_regularizer, **kwargs)\n"
     ]
    }
   ],
   "source": [
    "# set the netowrk hyperparameters\n",
    "max_epsilon = 1 # you can't explore more than 100% of the time\n",
    "min_epsilon = 0.01 # at a minimum, we'll always explore 1% of the time\n",
    "decay = 0.01\n",
    "\n",
    "# set the network input and output sizes\n",
    "state_shape =  (len(p.faces(2))*max_num_triangs,)\n",
    "action_shape = len(action_list)\n",
    "\n",
    "# initialise the main model (updated every 4 runs)\n",
    "model = agent(state_shape, action_shape)\n",
    "\n",
    "# initialise the target model (updated every 100 runs)\n",
    "target_model = agent(state_shape, action_shape)\n",
    "target_model.set_weights(model.get_weights())\n",
    "\n",
    "# initialise memory\n",
    "replay_memory = deque(maxlen=50_000)\n",
    "\n",
    "# epsilon-greedy algorithm in initialized at 1 meaning every step is random at the start\n",
    "epsilon = 1"
   ]
  },
  {
   "cell_type": "code",
   "execution_count": 12,
   "id": "007a9812-e68c-48fb-a263-582b701e41b1",
   "metadata": {
    "tags": []
   },
   "outputs": [
    {
     "name": "stdout",
     "output_type": "stream",
     "text": [
      "0.0\n",
      "0.1\n",
      "0.2\n",
      "0.3\n",
      "0.4\n",
      "0.5\n",
      "0.6\n",
      "0.7\n",
      "0.8\n",
      "0.9\n"
     ]
    }
   ],
   "source": [
    "# train the deep Q-learning network for 1000 episodes\n",
    "steps_to_update_model = 0\n",
    "for episode in range(1000):   \n",
    "    if episode % 100 == 0:\n",
    "        print(episode/1000)\n",
    "        \n",
    "    # randomly set the initial state\n",
    "    state = random_T_state(two_face_triangs, max_num_triangs)\n",
    "    \n",
    "    # compute the fitness of the initial state \n",
    "    fitness = T_fitness(p, two_face_triangs, state)\n",
    "    \n",
    "    # check if initial state is already terminal \n",
    "    if fitness == 1:\n",
    "        terminated = True\n",
    "        steps_to_update_model += 1\n",
    "        replay_memory.append([state, 0, 10, state, terminated])\n",
    "    else:  \n",
    "        terminated = False\n",
    "    \n",
    "    # if initial state is not immediately terminal, continue until terminated\n",
    "    while not terminated:\n",
    "        # randomly sample a number from 0 to 1 \n",
    "        # if number is less than epsilon then explore the action space\n",
    "        # else exploit the learned values\n",
    "        if random.uniform(0,1)<epsilon:\n",
    "            # randomly sample an action from the action space\n",
    "            action = random.choice(range(len(action_list)))\n",
    "        else:\n",
    "            # choose action with the highest predicted q value\n",
    "            encoded = np.array(state).flatten()\n",
    "            encoded_reshaped = encoded.reshape([1, encoded.shape[0]])\n",
    "            predicted = model.predict(encoded_reshaped, verbose=0).flatten()\n",
    "            action = np.argmax(predicted)\n",
    "\n",
    "        # define the next state from the action\n",
    "        new_state = T_act(state, action_list[action])\n",
    "        \n",
    "        # compute the fitness of the next state \n",
    "        fitness = T_fitness(p, two_face_triangs, new_state)\n",
    "        \n",
    "        # if the new state is FRST then assign a big reward and update the terminated variable\n",
    "        if fitness == 1:\n",
    "            reward = 10\n",
    "            terminated = True\n",
    "            steps_to_update_model += 1\n",
    "        else:\n",
    "            # if the new state is not FRST then compute the reward using the reward function\n",
    "            reward = T_fitness(p, two_face_triangs, new_state) - T_fitness(p, two_face_triangs, state)  \n",
    "        \n",
    "        # update the replay memory \n",
    "        replay_memory.append([state, action, reward, new_state, terminated])\n",
    "        \n",
    "        # update the state\n",
    "        state = deepcopy(new_state)\n",
    "    \n",
    "    # update the models\n",
    "    if steps_to_update_model % 4 == 0:\n",
    "        train(replay_memory, model, target_model)\n",
    "    \n",
    "    if steps_to_update_model == 100:\n",
    "        target_model.set_weights(model.get_weights())\n",
    "        steps_to_update_model = 0\n",
    "    \n",
    "    # update epsilon parameter\n",
    "    epsilon = min_epsilon+(max_epsilon-min_epsilon)*np.exp(-decay*episode)   "
   ]
  },
  {
   "cell_type": "code",
   "execution_count": 13,
   "id": "ed51a379-94e2-48f1-bb9f-07ba141dd577",
   "metadata": {
    "tags": []
   },
   "outputs": [
    {
     "name": "stdout",
     "output_type": "stream",
     "text": [
      "Post-Training Average # Steps:  1.4165912518853696\n"
     ]
    }
   ],
   "source": [
    "# post-training test\n",
    "terminal_states, post_train_count, post_train_steps = [], [], []\n",
    "finished = False\n",
    "while not finished:\n",
    "    # initialise step count \n",
    "    step = 1\n",
    "    \n",
    "    # randomly set the initial state\n",
    "    state = random_T_state(two_face_triangs, max_num_triangs)\n",
    "    \n",
    "    # compute the fitness of the initial state \n",
    "    fitness = T_fitness(p, two_face_triangs, state)\n",
    "    \n",
    "    # check if initial state is already terminal \n",
    "    if fitness == 1:\n",
    "        terminated = True\n",
    "        post_train_steps.append(step)\n",
    "        \n",
    "        #  check if new state already exists in the list and if not add it\n",
    "        if not state in terminal_states:\n",
    "            terminal_states.append(state)\n",
    "        \n",
    "        # update count list\n",
    "        post_train_count.append(len(terminal_states))\n",
    "    \n",
    "        # if no new FRSTs are found in the last 1000 runs then finish\n",
    "        if len(post_train_count) > 1000:\n",
    "            if len(set(post_train_count[-1000:])) == 1:\n",
    "                finished = True\n",
    "    else:\n",
    "        terminated = False\n",
    "    \n",
    "    # if initial state is not immediately terminal, continue until terminated\n",
    "    path = []\n",
    "    while not terminated:\n",
    "        # append the path with the current state\n",
    "        path.append(state)\n",
    "        \n",
    "        # choose the next state as the one with the highest q value that hasn't been visited before\n",
    "        new = False\n",
    "        encoded = np.array(state).flatten()\n",
    "        encoded_reshaped = encoded.reshape([1, encoded.shape[0]])\n",
    "        q_list = target_model.predict(encoded_reshaped, verbose=0).flatten()\n",
    "\n",
    "        while not new:\n",
    "            # update step number\n",
    "            step += 1\n",
    "            \n",
    "            # choose action with the highest predicted q value\n",
    "            action = np.argmax(q_list)\n",
    "\n",
    "            # define the next state from the action\n",
    "            new_state = T_act(state, action_list[action])\n",
    "            \n",
    "            # check if the next state has been visited before\n",
    "            if new_state not in path:\n",
    "                new = True\n",
    "            \n",
    "            # update the q value of the next state in the q list\n",
    "            q_list[np.argmax(q_list)] = -100\n",
    "            \n",
    "        # check if the next state is FRST  \n",
    "        fitness = T_fitness(p, two_face_triangs, new_state)\n",
    "        if fitness == 1:\n",
    "            terminated = True\n",
    "            post_train_steps.append(step)\n",
    "            \n",
    "            # check if new state is already in the list and if not add it\n",
    "            if not new_state in terminal_states:\n",
    "                terminal_states.append(new_state)\n",
    "            \n",
    "            # update count list\n",
    "            post_train_count.append(len(terminal_states))\n",
    "            \n",
    "            # if no new FRSTs are found in the last 1000 runs then finish\n",
    "            if len(post_train_count) > 1000:\n",
    "                if len(set(post_train_count[-1000:])) == 1:\n",
    "                    finished = True\n",
    "                \n",
    "        # update the state\n",
    "        state = deepcopy(new_state)\n",
    "        \n",
    "print(\"Post-Training Average # Steps: \",np.mean(post_train_steps))"
   ]
  },
  {
   "cell_type": "code",
   "execution_count": 18,
   "id": "678c4856-5c26-412e-b981-e8ce6f4c9bba",
   "metadata": {
    "tags": []
   },
   "outputs": [
    {
     "data": {
      "text/plain": [
       "[<matplotlib.lines.Line2D at 0x7f696cdf5dd0>]"
      ]
     },
     "execution_count": 18,
     "metadata": {},
     "output_type": "execute_result"
    },
    {
     "data": {
      "image/png": "[encoded data removed]",
      "text/plain": [
       "<Figure size 640x480 with 1 Axes>"
      ]
     },
     "metadata": {},
     "output_type": "display_data"
    }
   ],
   "source": [
    "pre_train_total_steps = [pre_train_steps[0]]\n",
    "for i in range(1,len(steps)):\n",
    "    pre_train_total_steps.append(pre_train_total_steps[i-1]+pre_train_steps[i])\n",
    "    \n",
    "post_train_total_steps = [post_train_steps[0]]\n",
    "for i in range(1,len(steps2)):\n",
    "    post_train_total_steps.append(post_train_total_steps[i-1]+post_train_steps[i])"
   ]
  },
  {
   "cell_type": "code",
   "execution_count": 19,
   "id": "327b3bd9-a664-431e-a69e-0fb08baf7f2f",
   "metadata": {
    "tags": []
   },
   "outputs": [
    {
     "data": {
      "image/png": "[encoded data removed]",
      "text/plain": [
       "<Figure size 640x480 with 1 Axes>"
      ]
     },
     "metadata": {},
     "output_type": "display_data"
    }
   ],
   "source": [
    "plt.plot(pre_train_total_steps, pre_train_count, label=\"RW\")\n",
    "plt.plot(pre_train_total_steps, post_train_count, label=\"RL\")\n",
    "plt.xlabel('Total # Steps')\n",
    "plt.ylabel('Total # NTFE FRSTs')\n",
    "plt.legend()\n",
    "plt.savefig('Example_RL_v_RW')"
   ]
  }
 ],
 "metadata": {
  "kernelspec": {
   "display_name": "Python 3 (ipykernel)",
   "language": "python",
   "name": "python3"
  },
  "language_info": {
   "codemirror_mode": {
    "name": "ipython",
    "version": 3
   },
   "file_extension": ".py",
   "mimetype": "text/x-python",
   "name": "python",
   "nbconvert_exporter": "python",
   "pygments_lexer": "ipython3",
   "version": "3.11.8"
  }
 },
 "nbformat": 4,
 "nbformat_minor": 5
}
