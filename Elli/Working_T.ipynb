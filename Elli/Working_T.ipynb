{
 "cells": [
  {
   "cell_type": "code",
   "execution_count": 1,
   "id": "2d3952dd",
   "metadata": {
    "tags": []
   },
   "outputs": [],
   "source": [
    "from cytools import Polytope\n",
    "from GA_triang import state, random_pop, evol_pop"
   ]
  },
  {
   "cell_type": "code",
   "execution_count": 2,
   "id": "823c65ac-664a-4d1c-aeb6-38f7a4799af1",
   "metadata": {
    "tags": []
   },
   "outputs": [],
   "source": [
    "POPSIZE = 50 # population size\n",
    "NUMGEN = 10 # number of generations\n",
    "MUTRATE = 0.01 # mutation rate"
   ]
  },
  {
   "cell_type": "code",
   "execution_count": 3,
   "id": "08905d24",
   "metadata": {
    "tags": []
   },
   "outputs": [],
   "source": [
    "poly = Polytope([[1,0,0,0],[0,1,0,0],[0,0,1,0],[0,0,0,1],[-1,-2,-1,-1],[-2,-1,-1,-1]])"
   ]
  },
  {
   "cell_type": "code",
   "execution_count": 4,
   "id": "76d9f3d9-ea2c-460c-b069-ebe1970d0d3e",
   "metadata": {
    "tags": []
   },
   "outputs": [
    {
     "name": "stdout",
     "output_type": "stream",
     "text": [
      "[[0, 1, 2, 5, 6], [0, 1, 2, 4, 6], [0, 1, 2, 3, 4], [0, 1, 2, 3, 5]]\n",
      " \n",
      "[[1, 3, 4, 5, 6], [2, 3, 4, 5, 6]]\n"
     ]
    }
   ],
   "source": [
    "faces = poly.facets()\n",
    "sim_face_simps = []\n",
    "non_sim_face_points = []\n",
    "for i in range(len(faces)):\n",
    "    num_points = len(faces[i].boundary_points())\n",
    "    if num_points == poly.dim():\n",
    "        simp = [0]\n",
    "        for j in range(num_points):\n",
    "            simp.append(list(poly.points_not_interior_to_facets(as_indices=True)).index(poly.points_to_indices(faces[i].boundary_points()[j])))\n",
    "        sim_face_simps.append(simp)\n",
    "    else:\n",
    "        points = []\n",
    "        for j in range(num_points):\n",
    "            points.append(list(poly.points_not_interior_to_facets(as_indices=True)).index(poly.points_to_indices(faces[i].boundary_points()[j])))\n",
    "        non_sim_face_points.append(points)\n",
    "num_sim_faces = len(sim_face_simps)\n",
    "print(sim_face_simps)\n",
    "print(\" \")\n",
    "print(non_sim_face_points)"
   ]
  },
  {
   "cell_type": "code",
   "execution_count": 5,
   "id": "07259244-26b1-4427-8937-731f5b206bbc",
   "metadata": {
    "tags": []
   },
   "outputs": [
    {
     "name": "stdout",
     "output_type": "stream",
     "text": [
      "1\n"
     ]
    }
   ],
   "source": [
    "# check OK for known FRST\n",
    "simps=[[0,1,2,3,4],[0,1,2,3,5],[0,1,2,4,6],[0,1,2,5,6],[0,1,3,4,5],[0,1,4,5,6],[0,2,3,4,5],[0,2,4,5,6]]\n",
    "T = state(poly, simps)\n",
    "T.compute_fitness()\n",
    "print(T.terminal)"
   ]
  },
  {
   "cell_type": "code",
   "execution_count": null,
   "id": "506599ff",
   "metadata": {
    "tags": []
   },
   "outputs": [
    {
     "name": "stdout",
     "output_type": "stream",
     "text": [
      "0\n",
      "1\n",
      "2\n",
      "3\n",
      "4\n",
      "5\n",
      "6\n",
      "7\n"
     ]
    }
   ],
   "source": [
    "# generate random initial population  \n",
    "initial_pop = random_pop(poly, POPSIZE)"
   ]
  },
  {
   "cell_type": "code",
   "execution_count": null,
   "id": "629d8395-f67f-453f-a4a5-b7f08a8e2f80",
   "metadata": {},
   "outputs": [],
   "source": [
    "# get terminal states in initial population\n",
    "terminal_states_1 = term_states(initial_pop)"
   ]
  },
  {
   "cell_type": "code",
   "execution_count": null,
   "id": "6bd168de-9b81-423a-a5e3-5226af285431",
   "metadata": {},
   "outputs": [],
   "source": [
    "# evolve random population over generations and extract terminal states\n",
    "terminal_states_2 = evol_pop(initial_pop, NUMGEN, MUTRATE)"
   ]
  },
  {
   "cell_type": "code",
   "execution_count": null,
   "id": "babe1e09-9933-4d35-88b8-7332448431a2",
   "metadata": {},
   "outputs": [],
   "source": []
  }
 ],
 "metadata": {
  "kernelspec": {
   "display_name": "Python 3 (ipykernel)",
   "language": "python",
   "name": "python3"
  },
  "language_info": {
   "codemirror_mode": {
    "name": "ipython",
    "version": 3
   },
   "file_extension": ".py",
   "mimetype": "text/x-python",
   "name": "python",
   "nbconvert_exporter": "python",
   "pygments_lexer": "ipython3",
   "version": "3.9.2"
  }
 },
 "nbformat": 4,
 "nbformat_minor": 5
}
