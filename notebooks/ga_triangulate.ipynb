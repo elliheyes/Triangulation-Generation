{
 "cells": [
  {
   "cell_type": "markdown",
   "id": "398f7a28-2229-4f99-8916-298d5ca59750",
   "metadata": {},
   "source": [
    "## Find heights using GA. Uses cytools to call CGAL."
   ]
  },
  {
   "cell_type": "code",
   "execution_count": 1,
   "id": "896f7ef3-5b0b-4985-b023-f660b65fe025",
   "metadata": {
    "tags": []
   },
   "outputs": [
    {
     "name": "stdout",
     "output_type": "stream",
     "text": [
      "\n",
      "Info: A more recent version of CYTools is available: v1.0.4 -> v1.0.7.\n",
      "We recommend upgrading before continuing.\n",
      "On Linux and macOS you can update CYTools by running 'cytools --update'\n",
      "and on Windows you can do this by running the updater tool.\n",
      "\n"
     ]
    }
   ],
   "source": [
    "import sys\n",
    "sys.path.append(\"..\")\n",
    "\n",
    "from cytools import Polytope, fetch_polytopes\n",
    "from cytools.triangulation import Triangulation\n",
    "from GA import random_pop, evol_pop"
   ]
  },
  {
   "cell_type": "code",
   "execution_count": 2,
   "id": "059b6fc1-1936-4734-a5e9-00ea4b62fa07",
   "metadata": {
    "tags": []
   },
   "outputs": [],
   "source": [
    "poly_gen = fetch_polytopes(lattice=\"N\", dim = 4, limit = 101)"
   ]
  },
  {
   "cell_type": "code",
   "execution_count": 3,
   "id": "574b2520-166f-4683-82a7-d0bbd4525c32",
   "metadata": {
    "tags": []
   },
   "outputs": [],
   "source": [
    "p = None\n",
    "for _ in range(3):\n",
    "    p = next(poly_gen)\n",
    "points = p.points()\n",
    "\n",
    "initial_pop = random_pop(points, 100)"
   ]
  },
  {
   "cell_type": "code",
   "execution_count": 4,
   "id": "3aeffbbc-c95a-4d3a-9655-bbff1073a9b8",
   "metadata": {
    "tags": []
   },
   "outputs": [
    {
     "name": "stdout",
     "output_type": "stream",
     "text": [
      "# Terminal States   Total # Terminal States\n",
      "100                    101\n",
      "100                    201\n",
      "100                    301\n",
      "100                    401\n",
      "100                    501\n"
     ]
    }
   ],
   "source": [
    "term_states = evol_pop(initial_pop, 5, numcuts=1, mutrate=0.1)"
   ]
  },
  {
   "cell_type": "code",
   "execution_count": 5,
   "id": "a166ee95-f42f-4c53-a9d1-096db34bebe4",
   "metadata": {
    "tags": []
   },
   "outputs": [],
   "source": [
    "points = term_states[-1].points\n",
    "poly = Polytope(points)\n",
    "heights = term_states[-1].heights\n",
    "\n",
    "t = Triangulation(points, poly=poly, heights = heights, make_star = False, backend='cgal')"
   ]
  },
  {
   "cell_type": "code",
   "execution_count": 6,
   "id": "7d29fd87-7d43-4c99-87f2-984da0963191",
   "metadata": {
    "tags": []
   },
   "outputs": [
    {
     "data": {
      "text/plain": [
       "A fine, regular, star triangulation of a 4-dimensional point configuration with 6 points in ZZ^4"
      ]
     },
     "execution_count": 6,
     "metadata": {},
     "output_type": "execute_result"
    }
   ],
   "source": [
    "t"
   ]
  },
  {
   "cell_type": "code",
   "execution_count": 7,
   "id": "da9a4eb7-a8e8-4423-b2b2-a0a52c7fc4aa",
   "metadata": {
    "tags": []
   },
   "outputs": [],
   "source": [
    "# Check the initial population\n",
    "points = initial_pop.state_list[0].points\n",
    "poly = Polytope(points)\n",
    "heights = initial_pop.state_list[0].heights\n",
    "\n",
    "t = Triangulation(poly.points(), poly=poly, heights = heights, make_star = True, backend='cgal')"
   ]
  },
  {
   "cell_type": "code",
   "execution_count": 8,
   "id": "da77a5b9-d269-4e76-891a-caf1dc1355ca",
   "metadata": {
    "tags": []
   },
   "outputs": [
    {
     "data": {
      "text/plain": [
       "A fine, regular, star triangulation of a 4-dimensional point configuration with 6 points in ZZ^4"
      ]
     },
     "execution_count": 8,
     "metadata": {},
     "output_type": "execute_result"
    }
   ],
   "source": [
    "t"
   ]
  },
  {
   "cell_type": "code",
   "execution_count": 9,
   "id": "8ee56963-550d-4a33-b2a3-f7ae7abf5ef4",
   "metadata": {
    "tags": []
   },
   "outputs": [
    {
     "data": {
      "text/plain": [
       "array([[0, 1, 2, 3, 4],\n",
       "       [0, 1, 2, 3, 5],\n",
       "       [0, 1, 2, 4, 5],\n",
       "       [0, 1, 3, 4, 5],\n",
       "       [0, 2, 3, 4, 5]])"
      ]
     },
     "execution_count": 9,
     "metadata": {},
     "output_type": "execute_result"
    }
   ],
   "source": [
    "t.simplices()"
   ]
  },
  {
   "cell_type": "code",
   "execution_count": null,
   "id": "0c74f7b5-8a80-4468-a4df-b7a6bc5e11d3",
   "metadata": {},
   "outputs": [],
   "source": []
  }
 ],
 "metadata": {
  "kernelspec": {
   "display_name": "Python 3 (ipykernel)",
   "language": "python",
   "name": "python3"
  },
  "language_info": {
   "codemirror_mode": {
    "name": "ipython",
    "version": 3
   },
   "file_extension": ".py",
   "mimetype": "text/x-python",
   "name": "python",
   "nbconvert_exporter": "python",
   "pygments_lexer": "ipython3",
   "version": "3.9.2"
  }
 },
 "nbformat": 4,
 "nbformat_minor": 5
}
