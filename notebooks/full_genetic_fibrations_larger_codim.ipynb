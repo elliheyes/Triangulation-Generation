{
 "cells": [
  {
   "cell_type": "code",
   "execution_count": 1,
   "id": "ac1133fa-7d1b-4928-b6b1-36b4007b64a9",
   "metadata": {
    "tags": []
   },
   "outputs": [
    {
     "name": "stdout",
     "output_type": "stream",
     "text": [
      "\n",
      "Info: A more recent version of CYTools is available: v1.0.4 -> v1.0.11.\n",
      "We recommend upgrading before continuing.\n",
      "On Linux and macOS you can update CYTools by running 'cytools --update'\n",
      "and on Windows you can do this by running the updater tool.\n",
      "\n"
     ]
    }
   ],
   "source": [
    "# !pip3 install pygad\n",
    "import numpy as np\n",
    "from integer_rref import i4mat_rref\n",
    "# from sympy import Matrix\n",
    "\n",
    "import pygad\n",
    "import matplotlib.pyplot as plt\n",
    "from cytools import Polytope\n",
    "from cytools.triangulation import Triangulation\n",
    "from cytools.utils import find_new_affinely_independent_points\n",
    "\n",
    "from cytools import read_polytopes, fetch_polytopes"
   ]
  },
  {
   "cell_type": "code",
   "execution_count": 80,
   "id": "954db039-a109-4a54-8290-7d60205ad085",
   "metadata": {
    "tags": []
   },
   "outputs": [],
   "source": [
    "# p = Polytope([[ 0,  0,  0],\n",
    "#    [-1, -1,  0],\n",
    "#    [-1,  1,  0],\n",
    "#    [ 2, -1,  0],\n",
    "#    [ 0,  0, -1],\n",
    "#    [ 0,  0,  1],\n",
    "#    [-1,  0,  0],\n",
    "#    [ 0, -1,  0],\n",
    "#    [ 1, -1,  0]])\n",
    "\n",
    "# p = Polytope([\n",
    "#     [-1, 6, 2, 3],\n",
    "#     [0, -1, 2, 3],\n",
    "#     [0, 0, -1, 0],\n",
    "#     [0, 0, 0, -1],\n",
    "#     [1, 6, 2, 3]\n",
    "# ])\n",
    "\n",
    "# p = Polytope([\n",
    "#     [-1, 4, 2, 3],\n",
    "#     [0, -1, 1, 2],\n",
    "#     [0, -1, 2, 3],\n",
    "#     [0, 0, -1, 0],\n",
    "#     [0, 0, 0, -1],\n",
    "#     [0, 0, 2, 3],\n",
    "#     [0, 2, 0, 1],\n",
    "#     [1, 4, 2, 3]\n",
    "# ])\n",
    "\n",
    "# p = Polytope([[ 1,  0,  0,  0],\n",
    "#        [ 0,  1,  0,  0],\n",
    "#        [ 2,  4,  5,  0],\n",
    "#        [ 3,  3,  0,  5],\n",
    "#        [-6, -8, -5, -5]])\n",
    "\n",
    "p = Polytope([\n",
    "    [1,0,0,0],\n",
    "    [0,1,0,0],\n",
    "    [0,0,1,0],\n",
    "    [0,0,0,1],\n",
    "    [-1,-1,0,0],\n",
    "    [-1,-1,-1,-1],\n",
    "])\n",
    "\n",
    "pts = p.points()[1:]\n",
    "\n",
    "\n",
    "gene_size = pts.shape[0]*2"
   ]
  },
  {
   "cell_type": "code",
   "execution_count": 85,
   "id": "1855936b-b210-4056-97c0-2810b472c033",
   "metadata": {
    "tags": []
   },
   "outputs": [
    {
     "data": {
      "text/plain": [
       "A 4-dimensional reflexive lattice polytope in ZZ^4"
      ]
     },
     "execution_count": 85,
     "metadata": {},
     "output_type": "execute_result"
    }
   ],
   "source": [
    "p"
   ]
  },
  {
   "cell_type": "code",
   "execution_count": 86,
   "id": "21dc7c31-5709-4126-aa26-9038ab5b048a",
   "metadata": {
    "tags": []
   },
   "outputs": [],
   "source": [
    "# p.triangulate().simplices()"
   ]
  },
  {
   "cell_type": "code",
   "execution_count": 87,
   "id": "93663ac8-eb8d-4af9-b70b-ef9d508390b2",
   "metadata": {
    "tags": []
   },
   "outputs": [
    {
     "data": {
      "text/plain": [
       "[A 2-dimensional lattice polytope in ZZ^4]"
      ]
     },
     "execution_count": 87,
     "metadata": {},
     "output_type": "execute_result"
    }
   ],
   "source": [
    "p.find_2d_reflexive_subpolytopes()"
   ]
  },
  {
   "cell_type": "code",
   "execution_count": 88,
   "id": "39f791fd-9aee-4638-8907-80cc3add4230",
   "metadata": {
    "tags": []
   },
   "outputs": [],
   "source": [
    "def get_indices(p, subp):\n",
    "    return [np.where(np.all(v == p, axis=1))[0][0] for v in subp]\n",
    "\n",
    "def boundary(simplices):\n",
    "    dsimplices = []\n",
    "    for s in simplices:\n",
    "        for i in range(1, len(s)):\n",
    "            dsimplices.append(\n",
    "                np.append(s[:i], s[(i+1):]))\n",
    "\n",
    "    dsimplices = np.asarray(dsimplices)\n",
    "    return dsimplices\n",
    "\n",
    "def restrict(dsimplices, subp_vertices):\n",
    "    sub_simplices = np.where(np.all(np.isin(dsimplices, subp_vertices), axis=1))[0]\n",
    "    sub_simplices = dsimplices[sub_simplices]\n",
    "\n",
    "    local_sub_simplices = []\n",
    "    for s in sub_simplices:\n",
    "        local_s = []\n",
    "        for v in s:\n",
    "            local_s.append(np.where(subp_vertices == v)[0][0])\n",
    "        local_sub_simplices.append(local_s)\n",
    "    return np.unique(local_sub_simplices, axis=0)\n",
    "\n",
    "def project(vertices):\n",
    "    vertices_copy = np.array(vertices, copy=True)\n",
    "    W = np.asarray(i4mat_rref(vertices.shape[0], vertices.shape[1], vertices_copy)[0]).astype(np.float64)\n",
    "    local_vertices = np.round(vertices@np.linalg.pinv(W))\n",
    "    idx = np.argwhere(np.all(local_vertices[..., :] == 0, axis=0))\n",
    "    \n",
    "    return np.delete(local_vertices, idx, axis=1)"
   ]
  },
  {
   "cell_type": "code",
   "execution_count": 89,
   "id": "0331cb15-c343-46eb-9450-816272ca68d5",
   "metadata": {
    "tags": []
   },
   "outputs": [],
   "source": [
    "def reduce_polytope(vertices):\n",
    "    vertices_copy = np.array(vertices, copy=True)\n",
    "    W = np.asarray(i4mat_rref(vertices.shape[0], vertices.shape[1], vertices_copy)[0]).astype(np.float64)\n",
    "    local_vertices = np.round(vertices@np.linalg.pinv(W))\n",
    "    idx = np.argwhere(np.all(local_vertices[..., :] == 0, axis=0))\n",
    "    \n",
    "    return Polytope(np.delete(local_vertices, idx, axis=1))"
   ]
  },
  {
   "cell_type": "code",
   "execution_count": 90,
   "id": "00f5cfda-900e-4c86-afce-6f189ee80b6e",
   "metadata": {
    "tags": []
   },
   "outputs": [
    {
     "data": {
      "text/plain": [
       "6"
      ]
     },
     "execution_count": 90,
     "metadata": {},
     "output_type": "execute_result"
    }
   ],
   "source": [
    "gene_size//2"
   ]
  },
  {
   "cell_type": "code",
   "execution_count": 91,
   "id": "c896bed9-30ec-4ede-ac22-3ca12fcdb122",
   "metadata": {
    "tags": []
   },
   "outputs": [],
   "source": [
    "\n",
    "solutions = []\n",
    "\n",
    "\n",
    "def compose(x, *args):\n",
    "    out = x\n",
    "    for f in args:\n",
    "        out = f(out)\n",
    "    return out\n",
    "\n",
    "\n",
    "fibration_dimension = 2\n",
    "def fitness_func(ga_instance, solution, solution_idx):\n",
    "    pts_sol = solution[:gene_size//2]\n",
    "    mask = (pts_sol > 0)\n",
    "    vertices = pts[mask]\n",
    "\n",
    "    error = 0\n",
    "    if vertices.size == 0:\n",
    "        return -1000\n",
    "\n",
    "    error += (np.linalg.matrix_rank(vertices) - fibration_dimension)**2\n",
    "    p_reduced = reduce_polytope(vertices)\n",
    "\n",
    "    error += (1 - p_reduced.is_reflexive())**2\n",
    "    error += (fibration_dimension - p_reduced.dimension())**2\n",
    "\n",
    "    # Construct a triangulation \n",
    "    heights_sol = solution[gene_size//2:]\n",
    "    heights = [-1e3] + [pt.dot(pt) + heights_sol[i] for i, pt in enumerate(pts)]\n",
    "\n",
    "    t = p.triangulate(heights = heights)\n",
    "    # error += (1-t.is_star())**2 + (1-t.is_fine())**2 + (1-t.is_regular())**2\n",
    "\n",
    "    \n",
    "\n",
    "    if error == 0:\n",
    "        # Restrict triangulation\n",
    "        subsimplices = restrict(\n",
    "            dsimplices = compose(t.simplices(), *([boundary]*(p.dimension() - fibration_dimension))), #boundary(t.simplices()),\n",
    "            subp_vertices = get_indices(\n",
    "                p.points(), Polytope(vertices).points()))\n",
    "\n",
    "        try:\n",
    "            tsub = Triangulation(\n",
    "                triang_pts = project(Polytope(vertices).points()),\n",
    "                simplices = subsimplices)\n",
    "        except Exception as e:\n",
    "            print(e)\n",
    "            # print(subsimplices)\n",
    "            return -1000\n",
    "\n",
    "        # Check that every vertex is used\n",
    "        used_indices = set.union(*[set(s) for s in tsub.simplices()])\n",
    "        is_fine = all(v in used_indices for v in p_reduced._triang_pt_inds(None))\n",
    "        # triang_pts = tsub.points()[p_reduced._triang_pt_inds(None),:]\n",
    "        # is_fine = len(set.union(*[set(s) for s in tsub.simplices()])) == len(triang_pts)\n",
    "        error += (1-tsub.is_star())**2 + (1-is_fine)**2 + (1-tsub.is_regular())**2\n",
    "    else:\n",
    "        error += 1000\n",
    "    if error <= 0:\n",
    "        solutions.append((vertices, t, tsub))\n",
    "    return -error"
   ]
  },
  {
   "cell_type": "code",
   "execution_count": null,
   "id": "a20b10fe-ae92-4f69-94b4-004ba7fee0c7",
   "metadata": {
    "tags": []
   },
   "outputs": [],
   "source": []
  },
  {
   "cell_type": "code",
   "execution_count": 92,
   "id": "7fc43b08-bbfa-4285-9b33-3b34fdc1c339",
   "metadata": {
    "tags": []
   },
   "outputs": [],
   "source": [
    "# Initialize GA\n",
    "\n",
    "ga_instance = pygad.GA(\n",
    "    fitness_func=fitness_func,\n",
    "    num_genes=gene_size,\n",
    "    save_best_solutions=False,\n",
    "\n",
    "    num_generations=500,\n",
    "    num_parents_mating=10,\n",
    "    sol_per_pop=20,\n",
    "\n",
    "    init_range_low=-1,\n",
    "    init_range_high=1,\n",
    "    gene_space = {'low': -1, 'high': 1},\n",
    "    gene_type=float,\n",
    "\n",
    "    parent_selection_type=\"rws\",\n",
    "    keep_parents=-1,\n",
    "    # stop_criteria=\"reach_0\",\n",
    "    crossover_type=\"two_points\",\n",
    "    mutation_type=\"random\",\n",
    "    keep_elitism=10,\n",
    "    mutation_percent_genes=20)"
   ]
  },
  {
   "cell_type": "code",
   "execution_count": 93,
   "id": "4a0dba3b-8d63-4662-bfbf-3f74e9a92321",
   "metadata": {
    "tags": []
   },
   "outputs": [],
   "source": [
    "ga_instance.run()"
   ]
  },
  {
   "cell_type": "code",
   "execution_count": 94,
   "id": "bc36aed9-2490-4066-913b-de51c6751965",
   "metadata": {
    "tags": []
   },
   "outputs": [
    {
     "name": "stderr",
     "output_type": "stream",
     "text": [
      "No artists with labels found to put in legend.  Note that artists whose label start with an underscore are ignored when legend() is called with no argument.\n"
     ]
    },
    {
     "data": {
      "image/png": "[encoded data removed]",
      "text/plain": [
       "<Figure size 640x480 with 1 Axes>"
      ]
     },
     "metadata": {},
     "output_type": "display_data"
    },
    {
     "data": {
      "image/png": "[encoded data removed]",
      "text/plain": [
       "<Figure size 640x480 with 1 Axes>"
      ]
     },
     "execution_count": 94,
     "metadata": {},
     "output_type": "execute_result"
    }
   ],
   "source": [
    "ga_instance.plot_fitness()"
   ]
  },
  {
   "cell_type": "code",
   "execution_count": 96,
   "id": "74217124-1d8b-4f4a-8594-6677953d7e61",
   "metadata": {
    "tags": []
   },
   "outputs": [
    {
     "data": {
      "text/plain": [
       "(array([[-1, -1,  0,  0],\n",
       "        [ 0,  1,  0,  0],\n",
       "        [ 1,  0,  0,  0]]),\n",
       " A fine, regular, star triangulation of a 4-dimensional point configuration with 7 points in ZZ^4,\n",
       " A fine, regular, star triangulation of a 2-dimensional point configuration with 4 points in ZZ^2)"
      ]
     },
     "execution_count": 96,
     "metadata": {},
     "output_type": "execute_result"
    }
   ],
   "source": [
    "solutions[0]"
   ]
  },
  {
   "cell_type": "code",
   "execution_count": null,
   "id": "9c68c4f4-35d9-4a80-9c78-15c673fe8f6a",
   "metadata": {},
   "outputs": [],
   "source": []
  }
 ],
 "metadata": {
  "kernelspec": {
   "display_name": "Python 3 (ipykernel)",
   "language": "python",
   "name": "python3"
  },
  "language_info": {
   "codemirror_mode": {
    "name": "ipython",
    "version": 3
   },
   "file_extension": ".py",
   "mimetype": "text/x-python",
   "name": "python",
   "nbconvert_exporter": "python",
   "pygments_lexer": "ipython3",
   "version": "3.9.2"
  }
 },
 "nbformat": 4,
 "nbformat_minor": 5
}
