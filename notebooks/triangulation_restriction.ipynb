{
 "cells": [
  {
   "cell_type": "code",
   "execution_count": 1,
   "id": "7684503e-f93f-41e7-abf0-3e184ab16363",
   "metadata": {
    "tags": []
   },
   "outputs": [
    {
     "name": "stdout",
     "output_type": "stream",
     "text": [
      "\n",
      "Info: A more recent version of CYTools is available: v1.0.4 -> v1.0.7.\n",
      "We recommend upgrading before continuing.\n",
      "On Linux and macOS you can update CYTools by running 'cytools --update'\n",
      "and on Windows you can do this by running the updater tool.\n",
      "\n"
     ]
    }
   ],
   "source": [
    "import numpy as np\n",
    "import matplotlib.pyplot as plt\n",
    "\n",
    "from cytools import Polytope\n",
    "from cytools.triangulation import Triangulation\n",
    "from integer_rref import i4mat_rref"
   ]
  },
  {
   "cell_type": "code",
   "execution_count": 15,
   "id": "2ac5d525-0be9-47d6-9fac-ee780e997265",
   "metadata": {
    "tags": []
   },
   "outputs": [],
   "source": [
    "def get_indices(p, subp):\n",
    "    return [np.where(np.all(v == p, axis=1))[0][0] for v in subp]\n",
    "\n",
    "def boundary(simplices):\n",
    "    dsimplices = []\n",
    "    for s in simplices:\n",
    "        for i in range(1, len(s)):\n",
    "            dsimplices.append(\n",
    "                np.append(s[:i], s[(i+1):]))\n",
    "\n",
    "    dsimplices = np.asarray(dsimplices)\n",
    "    return dsimplices\n",
    "\n",
    "def restrict(dsimplices, subp_vertices):\n",
    "    sub_simplices = np.where(np.all(np.isin(dsimplices, subp_vertices), axis=1))[0]\n",
    "    sub_simplices = dsimplices[sub_simplices]\n",
    "    \n",
    "    local_sub_simplices = []\n",
    "    for s in sub_simplices:\n",
    "        local_s = []\n",
    "        for v in s:\n",
    "            local_s.append(np.where(subp_vertices == v)[0][0])\n",
    "        local_sub_simplices.append(local_s)\n",
    "    return np.unique(local_sub_simplices, axis=0)\n",
    "\n",
    "def project(vertices):\n",
    "    vertices_copy = np.array(vertices, copy=True)\n",
    "    W = np.asarray(i4mat_rref(vertices.shape[0], vertices.shape[1], vertices_copy)[0]).astype(np.float64)\n",
    "    local_vertices = np.round(vertices@np.linalg.pinv(W))\n",
    "    idx = np.argwhere(np.all(local_vertices[..., :] == 0, axis=0))\n",
    "    \n",
    "    return np.delete(local_vertices, idx, axis=1)"
   ]
  },
  {
   "cell_type": "code",
   "execution_count": 4,
   "id": "6dde2b94-881f-4ae7-86a5-8353bb478073",
   "metadata": {
    "tags": []
   },
   "outputs": [],
   "source": [
    "p = np.asarray([[ 0,  0,  0],\n",
    "   [-1, -1,  0],\n",
    "   [-1,  1,  0],\n",
    "   [ 2, -1,  0],\n",
    "   [ 0,  0, -1],\n",
    "   [ 0,  0,  1],\n",
    "   [-1,  0,  0],\n",
    "   [ 0, -1,  0],\n",
    "   [ 1, -1,  0]])\n",
    "\n",
    "\n",
    "subp_1 = np.asarray([[ 0,  0, 0],\n",
    "   [-1, -1, 0],\n",
    "   [-1,  1, 0],\n",
    "   [ 2, -1, 0]])\n",
    "subp_1 = Polytope(subp_1).points()\n",
    "\n",
    "subp_2 = np.array([\n",
    "    [0, 0, 0],\n",
    "    [-1,  1, 0],\n",
    "    [ 2, -1, 0],\n",
    "    [ 0, -1, 0]])\n",
    "\n",
    "subp_2 = Polytope(subp_2).points()"
   ]
  },
  {
   "cell_type": "code",
   "execution_count": 7,
   "id": "7212bf9b-a39a-4a73-8c66-b4669d200fff",
   "metadata": {
    "tags": []
   },
   "outputs": [],
   "source": [
    "simplices = Polytope(p).triangulate().simplices()"
   ]
  },
  {
   "cell_type": "code",
   "execution_count": 21,
   "id": "a49f3940-19bf-40b1-aca1-628b6b78c60b",
   "metadata": {
    "tags": []
   },
   "outputs": [],
   "source": [
    "subsimplices_1 = restrict(\n",
    "    dsimplices    = boundary(simplices),\n",
    "    subp_vertices = get_indices(p, subp_1))\n",
    "\n",
    "subsimplices_2 = restrict(\n",
    "    dsimplices    = boundary(simplices),\n",
    "    subp_vertices = get_indices(p, subp_2))"
   ]
  },
  {
   "cell_type": "code",
   "execution_count": null,
   "id": "15cb5eaf-fc8d-450a-aa3c-c875b3e8c785",
   "metadata": {},
   "outputs": [],
   "source": []
  },
  {
   "cell_type": "code",
   "execution_count": 23,
   "id": "b88c1bde-a944-4bb1-ac7a-514fc0d6aad3",
   "metadata": {
    "tags": []
   },
   "outputs": [
    {
     "data": {
      "text/plain": [
       "A fine, regular, star triangulation of a 2-dimensional point configuration with 7 points in ZZ^2"
      ]
     },
     "execution_count": 23,
     "metadata": {},
     "output_type": "execute_result"
    }
   ],
   "source": [
    "Triangulation(\n",
    "    triang_pts = project(subp_1),\n",
    "    simplices = subsimplices_1)"
   ]
  },
  {
   "cell_type": "code",
   "execution_count": null,
   "id": "13b44cc9-e787-4060-ab27-941830ee8259",
   "metadata": {},
   "outputs": [],
   "source": []
  }
 ],
 "metadata": {
  "kernelspec": {
   "display_name": "Python 3 (ipykernel)",
   "language": "python",
   "name": "python3"
  },
  "language_info": {
   "codemirror_mode": {
    "name": "ipython",
    "version": 3
   },
   "file_extension": ".py",
   "mimetype": "text/x-python",
   "name": "python",
   "nbconvert_exporter": "python",
   "pygments_lexer": "ipython3",
   "version": "3.9.2"
  }
 },
 "nbformat": 4,
 "nbformat_minor": 5
}
