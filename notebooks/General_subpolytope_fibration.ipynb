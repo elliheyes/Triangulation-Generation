{
 "cells": [
  {
   "cell_type": "code",
   "execution_count": 1,
   "id": "edcaacb5-e5be-44af-816d-29efccf3fe24",
   "metadata": {
    "tags": []
   },
   "outputs": [
    {
     "name": "stdout",
     "output_type": "stream",
     "text": [
      "\n",
      "Info: A more recent version of CYTools is available: v1.0.4 -> v1.0.7.\n",
      "We recommend upgrading before continuing.\n",
      "On Linux and macOS you can update CYTools by running 'cytools --update'\n",
      "and on Windows you can do this by running the updater tool.\n",
      "\n"
     ]
    }
   ],
   "source": [
    "import numpy as np\n",
    "from integer_rref import i4mat_rref\n",
    "# from sympy import Matrix\n",
    "\n",
    "import pygad\n",
    "from cytools import Polytope\n",
    "from cytools.utils import find_new_affinely_independent_points"
   ]
  },
  {
   "cell_type": "code",
   "execution_count": 2,
   "id": "7999ab52-a0ea-4248-b3a0-c7ba6c6ead7d",
   "metadata": {
    "tags": []
   },
   "outputs": [],
   "source": [
    "from cytools import read_polytopes, fetch_polytopes"
   ]
  },
  {
   "cell_type": "code",
   "execution_count": 3,
   "id": "0e462c80-d36e-4d75-8531-b8e493e7fbe3",
   "metadata": {
    "tags": []
   },
   "outputs": [
    {
     "name": "stdout",
     "output_type": "stream",
     "text": [
      "[[ 1  0  0  0]\n",
      " [ 0  1  0  0]\n",
      " [ 2  4  5  0]\n",
      " [ 3  3  0  5]\n",
      " [-6 -8 -5 -5]]\n"
     ]
    }
   ],
   "source": [
    "g = fetch_polytopes(limit=2)\n",
    "p = next(g)\n",
    "p = next(g)\n",
    "print(p.vertices())\n",
    "pts = p.points()[1:]\n",
    "\n",
    "gene_size = pts.shape[0]"
   ]
  },
  {
   "cell_type": "code",
   "execution_count": 4,
   "id": "49721812-181c-4d1a-8c3e-09dd613557be",
   "metadata": {
    "tags": []
   },
   "outputs": [],
   "source": [
    "def reduce_polytope(vertices):\n",
    "    vertices_copy = np.array(vertices, copy=True)\n",
    "    W = np.asarray(i4mat_rref(vertices.shape[0], vertices.shape[1], vertices_copy)[0]).astype(np.float64)\n",
    "    local_vertices = np.round(vertices@np.linalg.pinv(W))\n",
    "    idx = np.argwhere(np.all(local_vertices[..., :] == 0, axis=0))\n",
    "    \n",
    "    return Polytope(np.delete(local_vertices, idx, axis=1))\n",
    "\n",
    "def generate_fitness_func(fibration_dimension):\n",
    "    def fitness_func(ga_instance, solution, solution_idx):\n",
    "        mask = (solution == 1)\n",
    "        vertices = pts[mask]\n",
    "\n",
    "        error = 0\n",
    "        if vertices.size == 0:\n",
    "            return -1000\n",
    "\n",
    "        error += (np.linalg.matrix_rank(vertices) - fibration_dimension)**2\n",
    "        p = reduce_polytope(vertices)\n",
    "\n",
    "        # There probably exists a more efficient\n",
    "        # way of doing this, but this works for now.\n",
    "        error += (1 - p.is_reflexive())**2\n",
    "        error += (fibration_dimension - p.dimension())**2\n",
    "\n",
    "        return -error\n",
    "    return fitness_func"
   ]
  },
  {
   "cell_type": "code",
   "execution_count": 9,
   "id": "4bcd9533-514d-4341-8940-cf45dfbc2182",
   "metadata": {
    "tags": []
   },
   "outputs": [],
   "source": [
    "# Initialize GA\n",
    "\n",
    "# Search for K3 fibered CYs\n",
    "fitness_func = generate_fitness_func(3)\n",
    "\n",
    "ga_instance = pygad.GA(\n",
    "    fitness_func=fitness_func,\n",
    "    num_genes=gene_size,\n",
    "    save_best_solutions=False,\n",
    "\n",
    "    num_generations=1000,\n",
    "    num_parents_mating=10,\n",
    "    sol_per_pop=100,\n",
    "\n",
    "    init_range_low=0,\n",
    "    init_range_high=2,\n",
    "    gene_type=int,\n",
    "\n",
    "    parent_selection_type=\"rws\",\n",
    "    keep_parents=-1,\n",
    "    crossover_type=\"two_points\",\n",
    "    mutation_type=\"random\",\n",
    "    mutation_percent_genes=20)"
   ]
  },
  {
   "cell_type": "code",
   "execution_count": 10,
   "id": "0d1421a4-4016-4400-8f38-beb4a0bd72b0",
   "metadata": {
    "tags": []
   },
   "outputs": [],
   "source": [
    "ga_instance.run()"
   ]
  },
  {
   "cell_type": "code",
   "execution_count": 11,
   "id": "0d3d8fed-9311-4e90-8594-8eac6c1d6c91",
   "metadata": {
    "tags": []
   },
   "outputs": [
    {
     "name": "stdout",
     "output_type": "stream",
     "text": [
      "Found solution with fitness: 0\n"
     ]
    }
   ],
   "source": [
    "solution, solution_fitness, solution_idx = ga_instance.best_solution()\n",
    "print(f\"Found solution with fitness: {solution_fitness}\")"
   ]
  },
  {
   "cell_type": "code",
   "execution_count": 12,
   "id": "161bb5b9-bc9e-47eb-acd2-ea3c9389615d",
   "metadata": {
    "tags": []
   },
   "outputs": [
    {
     "data": {
      "text/plain": [
       "array([[ 0,  0,  0],\n",
       "       [-2, -1, -2],\n",
       "       [ 0,  1, -1],\n",
       "       [ 1,  0,  1],\n",
       "       [ 3,  0,  5],\n",
       "       [ 2,  0,  3]])"
      ]
     },
     "execution_count": 12,
     "metadata": {},
     "output_type": "execute_result"
    }
   ],
   "source": [
    "reduce_polytope(pts[solution == 1]).points()"
   ]
  },
  {
   "cell_type": "code",
   "execution_count": 13,
   "id": "6a57d859-4479-423e-9be1-2b536d1aadc4",
   "metadata": {
    "tags": []
   },
   "outputs": [
    {
     "data": {
      "text/plain": [
       "A 3-dimensional reflexive lattice polytope in ZZ^3"
      ]
     },
     "execution_count": 13,
     "metadata": {},
     "output_type": "execute_result"
    }
   ],
   "source": [
    "reduce_polytope(pts[solution == 1])"
   ]
  },
  {
   "cell_type": "code",
   "execution_count": null,
   "id": "d56531b1-0d20-4bb5-9224-13e816d5ad17",
   "metadata": {},
   "outputs": [],
   "source": [
    "# TODO find triangulations of Polytope(pts) compatible with Polytope(pts[solution==1])"
   ]
  }
 ],
 "metadata": {
  "kernelspec": {
   "display_name": "Python 3 (ipykernel)",
   "language": "python",
   "name": "python3"
  },
  "language_info": {
   "codemirror_mode": {
    "name": "ipython",
    "version": 3
   },
   "file_extension": ".py",
   "mimetype": "text/x-python",
   "name": "python",
   "nbconvert_exporter": "python",
   "pygments_lexer": "ipython3",
   "version": "3.9.2"
  }
 },
 "nbformat": 4,
 "nbformat_minor": 5
}
